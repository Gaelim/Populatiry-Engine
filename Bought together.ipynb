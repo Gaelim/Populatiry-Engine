{
 "cells": [
  {
   "cell_type": "code",
   "execution_count": 1,
   "metadata": {},
   "outputs": [],
   "source": [
    "#Load in the essential libraries\n",
    "import pandas as pd\n",
    "import numpy as np\n",
    "import matplotlib.pyplot as plt\n",
    "from itertools import permutations,combinations\n",
    "from collections import Counter"
   ]
  },
  {
   "cell_type": "code",
   "execution_count": 2,
   "metadata": {},
   "outputs": [],
   "source": [
    "#create a function that finds pairs and list them in a column. Using A and B as a stand in\n",
    "def find_pairs(x):\n",
    "    pairs = pd.DataFrame(list(permutations(x.values,2)),columns=[\"A\",\"B\"])\n",
    "    return pairs"
   ]
  },
  {
   "cell_type": "code",
   "execution_count": 3,
   "metadata": {},
   "outputs": [
    {
     "data": {
      "text/html": [
       "<div>\n",
       "<style scoped>\n",
       "    .dataframe tbody tr th:only-of-type {\n",
       "        vertical-align: middle;\n",
       "    }\n",
       "\n",
       "    .dataframe tbody tr th {\n",
       "        vertical-align: top;\n",
       "    }\n",
       "\n",
       "    .dataframe thead th {\n",
       "        text-align: right;\n",
       "    }\n",
       "</style>\n",
       "<table border=\"1\" class=\"dataframe\">\n",
       "  <thead>\n",
       "    <tr style=\"text-align: right;\">\n",
       "      <th></th>\n",
       "      <th>Order ID</th>\n",
       "      <th>Product</th>\n",
       "      <th>Quantity Ordered</th>\n",
       "      <th>Price Each</th>\n",
       "      <th>Order Date</th>\n",
       "      <th>Purchase Address</th>\n",
       "    </tr>\n",
       "  </thead>\n",
       "  <tbody>\n",
       "    <tr>\n",
       "      <th>0</th>\n",
       "      <td>295665</td>\n",
       "      <td>Macbook Pro Laptop</td>\n",
       "      <td>1</td>\n",
       "      <td>1700</td>\n",
       "      <td>12/30/19 00:01</td>\n",
       "      <td>136 Church St, New York City, NY 10001</td>\n",
       "    </tr>\n",
       "    <tr>\n",
       "      <th>1</th>\n",
       "      <td>295666</td>\n",
       "      <td>LG Washing Machine</td>\n",
       "      <td>1</td>\n",
       "      <td>600.0</td>\n",
       "      <td>12/29/19 07:03</td>\n",
       "      <td>562 2nd St, New York City, NY 10001</td>\n",
       "    </tr>\n",
       "    <tr>\n",
       "      <th>2</th>\n",
       "      <td>295667</td>\n",
       "      <td>USB-C Charging Cable</td>\n",
       "      <td>1</td>\n",
       "      <td>11.95</td>\n",
       "      <td>12/12/19 18:21</td>\n",
       "      <td>277 Main St, New York City, NY 10001</td>\n",
       "    </tr>\n",
       "    <tr>\n",
       "      <th>3</th>\n",
       "      <td>295668</td>\n",
       "      <td>27in FHD Monitor</td>\n",
       "      <td>1</td>\n",
       "      <td>149.99</td>\n",
       "      <td>12/22/19 15:13</td>\n",
       "      <td>410 6th St, San Francisco, CA 94016</td>\n",
       "    </tr>\n",
       "    <tr>\n",
       "      <th>4</th>\n",
       "      <td>295669</td>\n",
       "      <td>USB-C Charging Cable</td>\n",
       "      <td>1</td>\n",
       "      <td>11.95</td>\n",
       "      <td>12/18/19 12:38</td>\n",
       "      <td>43 Hill St, Atlanta, GA 30301</td>\n",
       "    </tr>\n",
       "  </tbody>\n",
       "</table>\n",
       "</div>"
      ],
      "text/plain": [
       "  Order ID               Product Quantity Ordered Price Each      Order Date  \\\n",
       "0   295665    Macbook Pro Laptop                1       1700  12/30/19 00:01   \n",
       "1   295666    LG Washing Machine                1      600.0  12/29/19 07:03   \n",
       "2   295667  USB-C Charging Cable                1      11.95  12/12/19 18:21   \n",
       "3   295668      27in FHD Monitor                1     149.99  12/22/19 15:13   \n",
       "4   295669  USB-C Charging Cable                1      11.95  12/18/19 12:38   \n",
       "\n",
       "                         Purchase Address  \n",
       "0  136 Church St, New York City, NY 10001  \n",
       "1     562 2nd St, New York City, NY 10001  \n",
       "2    277 Main St, New York City, NY 10001  \n",
       "3     410 6th St, San Francisco, CA 94016  \n",
       "4           43 Hill St, Atlanta, GA 30301  "
      ]
     },
     "execution_count": 3,
     "metadata": {},
     "output_type": "execute_result"
    }
   ],
   "source": [
    "#Load in the dataset and check the head of the data\n",
    "dataset=pd.read_csv('Sales_December_2019.csv')\n",
    "dataset.head()"
   ]
  },
  {
   "cell_type": "code",
   "execution_count": 4,
   "metadata": {},
   "outputs": [
    {
     "data": {
      "text/html": [
       "<div>\n",
       "<style scoped>\n",
       "    .dataframe tbody tr th:only-of-type {\n",
       "        vertical-align: middle;\n",
       "    }\n",
       "\n",
       "    .dataframe tbody tr th {\n",
       "        vertical-align: top;\n",
       "    }\n",
       "\n",
       "    .dataframe thead th {\n",
       "        text-align: right;\n",
       "    }\n",
       "</style>\n",
       "<table border=\"1\" class=\"dataframe\">\n",
       "  <thead>\n",
       "    <tr style=\"text-align: right;\">\n",
       "      <th></th>\n",
       "      <th>A</th>\n",
       "      <th>B</th>\n",
       "    </tr>\n",
       "  </thead>\n",
       "  <tbody>\n",
       "    <tr>\n",
       "      <th>0</th>\n",
       "      <td>Google Phone</td>\n",
       "      <td>USB-C Charging Cable</td>\n",
       "    </tr>\n",
       "    <tr>\n",
       "      <th>1</th>\n",
       "      <td>Google Phone</td>\n",
       "      <td>Bose SoundSport Headphones</td>\n",
       "    </tr>\n",
       "    <tr>\n",
       "      <th>2</th>\n",
       "      <td>Google Phone</td>\n",
       "      <td>Wired Headphones</td>\n",
       "    </tr>\n",
       "    <tr>\n",
       "      <th>3</th>\n",
       "      <td>USB-C Charging Cable</td>\n",
       "      <td>Google Phone</td>\n",
       "    </tr>\n",
       "    <tr>\n",
       "      <th>4</th>\n",
       "      <td>USB-C Charging Cable</td>\n",
       "      <td>Bose SoundSport Headphones</td>\n",
       "    </tr>\n",
       "  </tbody>\n",
       "</table>\n",
       "</div>"
      ],
      "text/plain": [
       "                      A                           B\n",
       "0          Google Phone        USB-C Charging Cable\n",
       "1          Google Phone  Bose SoundSport Headphones\n",
       "2          Google Phone            Wired Headphones\n",
       "3  USB-C Charging Cable                Google Phone\n",
       "4  USB-C Charging Cable  Bose SoundSport Headphones"
      ]
     },
     "execution_count": 4,
     "metadata": {},
     "output_type": "execute_result"
    }
   ],
   "source": [
    "#Group the products by Order ID then apply the function \n",
    "dataset_combo =dataset.groupby('Order ID')['Product'].apply(find_pairs).reset_index(drop=True)\n",
    "dataset_combo.head()"
   ]
  },
  {
   "cell_type": "code",
   "execution_count": 5,
   "metadata": {},
   "outputs": [
    {
     "data": {
      "text/plain": [
       "A             B                         \n",
       "20in Monitor  27in FHD Monitor               1\n",
       "              AA Batteries (4-pack)          1\n",
       "              AAA Batteries (4-pack)         1\n",
       "              Apple Airpods Headphones       1\n",
       "              Bose SoundSport Headphones     1\n",
       "                                            ..\n",
       "iPhone        Macbook Pro Laptop             1\n",
       "              ThinkPad Laptop                1\n",
       "              USB-C Charging Cable           1\n",
       "              Vareebadd Phone                1\n",
       "              Wired Headphones              67\n",
       "Length: 234, dtype: int64"
      ]
     },
     "execution_count": 5,
     "metadata": {},
     "output_type": "execute_result"
    }
   ],
   "source": [
    "#  Calculate how often each item item_a occurs with the items in item_b\n",
    "dataset_combo2 =dataset_combo.groupby(['A','B']).size()\n",
    "dataset_combo2"
   ]
  },
  {
   "cell_type": "code",
   "execution_count": 6,
   "metadata": {},
   "outputs": [
    {
     "data": {
      "text/html": [
       "<div>\n",
       "<style scoped>\n",
       "    .dataframe tbody tr th:only-of-type {\n",
       "        vertical-align: middle;\n",
       "    }\n",
       "\n",
       "    .dataframe tbody tr th {\n",
       "        vertical-align: top;\n",
       "    }\n",
       "\n",
       "    .dataframe thead th {\n",
       "        text-align: right;\n",
       "    }\n",
       "</style>\n",
       "<table border=\"1\" class=\"dataframe\">\n",
       "  <thead>\n",
       "    <tr style=\"text-align: right;\">\n",
       "      <th></th>\n",
       "      <th>A</th>\n",
       "      <th>B</th>\n",
       "      <th>Size</th>\n",
       "    </tr>\n",
       "  </thead>\n",
       "  <tbody>\n",
       "    <tr>\n",
       "      <th>166</th>\n",
       "      <td>Product</td>\n",
       "      <td>Product</td>\n",
       "      <td>2256</td>\n",
       "    </tr>\n",
       "    <tr>\n",
       "      <th>189</th>\n",
       "      <td>USB-C Charging Cable</td>\n",
       "      <td>Google Phone</td>\n",
       "      <td>122</td>\n",
       "    </tr>\n",
       "    <tr>\n",
       "      <th>131</th>\n",
       "      <td>Google Phone</td>\n",
       "      <td>USB-C Charging Cable</td>\n",
       "      <td>122</td>\n",
       "    </tr>\n",
       "    <tr>\n",
       "      <th>228</th>\n",
       "      <td>iPhone</td>\n",
       "      <td>Lightning Charging Cable</td>\n",
       "      <td>115</td>\n",
       "    </tr>\n",
       "    <tr>\n",
       "      <th>152</th>\n",
       "      <td>Lightning Charging Cable</td>\n",
       "      <td>iPhone</td>\n",
       "      <td>115</td>\n",
       "    </tr>\n",
       "  </tbody>\n",
       "</table>\n",
       "</div>"
      ],
      "text/plain": [
       "                            A                         B  Size\n",
       "166                   Product                   Product  2256\n",
       "189      USB-C Charging Cable              Google Phone   122\n",
       "131              Google Phone      USB-C Charging Cable   122\n",
       "228                    iPhone  Lightning Charging Cable   115\n",
       "152  Lightning Charging Cable                    iPhone   115"
      ]
     },
     "execution_count": 6,
     "metadata": {},
     "output_type": "execute_result"
    }
   ],
   "source": [
    "#create a sorted dataframe by the most frequent combinations.\n",
    "dataset =dataset_combo2.reset_index()\n",
    "dataset.columns = ['A','B',\"Size\"]\n",
    "dataset.sort_values(by='Size',ascending =False, inplace =True)\n",
    "dataset.head()"
   ]
  },
  {
   "cell_type": "code",
   "execution_count": 7,
   "metadata": {},
   "outputs": [
    {
     "data": {
      "text/html": [
       "<div>\n",
       "<style scoped>\n",
       "    .dataframe tbody tr th:only-of-type {\n",
       "        vertical-align: middle;\n",
       "    }\n",
       "\n",
       "    .dataframe tbody tr th {\n",
       "        vertical-align: top;\n",
       "    }\n",
       "\n",
       "    .dataframe thead th {\n",
       "        text-align: right;\n",
       "    }\n",
       "</style>\n",
       "<table border=\"1\" class=\"dataframe\">\n",
       "  <thead>\n",
       "    <tr style=\"text-align: right;\">\n",
       "      <th></th>\n",
       "      <th>A</th>\n",
       "      <th>B</th>\n",
       "      <th>Size</th>\n",
       "    </tr>\n",
       "  </thead>\n",
       "  <tbody>\n",
       "    <tr>\n",
       "      <th>189</th>\n",
       "      <td>USB-C Charging Cable</td>\n",
       "      <td>Google Phone</td>\n",
       "      <td>122</td>\n",
       "    </tr>\n",
       "    <tr>\n",
       "      <th>131</th>\n",
       "      <td>Google Phone</td>\n",
       "      <td>USB-C Charging Cable</td>\n",
       "      <td>122</td>\n",
       "    </tr>\n",
       "    <tr>\n",
       "      <th>228</th>\n",
       "      <td>iPhone</td>\n",
       "      <td>Lightning Charging Cable</td>\n",
       "      <td>115</td>\n",
       "    </tr>\n",
       "    <tr>\n",
       "      <th>152</th>\n",
       "      <td>Lightning Charging Cable</td>\n",
       "      <td>iPhone</td>\n",
       "      <td>115</td>\n",
       "    </tr>\n",
       "    <tr>\n",
       "      <th>233</th>\n",
       "      <td>iPhone</td>\n",
       "      <td>Wired Headphones</td>\n",
       "      <td>67</td>\n",
       "    </tr>\n",
       "  </tbody>\n",
       "</table>\n",
       "</div>"
      ],
      "text/plain": [
       "                            A                         B  Size\n",
       "189      USB-C Charging Cable              Google Phone   122\n",
       "131              Google Phone      USB-C Charging Cable   122\n",
       "228                    iPhone  Lightning Charging Cable   115\n",
       "152  Lightning Charging Cable                    iPhone   115\n",
       "233                    iPhone          Wired Headphones    67"
      ]
     },
     "execution_count": 7,
     "metadata": {},
     "output_type": "execute_result"
    }
   ],
   "source": [
    "#Clean the Product row and check the head of the data\n",
    "Cleaned_Dataset = dataset[dataset[\"A\"]!=\"Product\"]\n",
    "Cleaned_Dataset.head()"
   ]
  },
  {
   "cell_type": "code",
   "execution_count": 8,
   "metadata": {},
   "outputs": [
    {
     "data": {
      "text/html": [
       "<div>\n",
       "<style scoped>\n",
       "    .dataframe tbody tr th:only-of-type {\n",
       "        vertical-align: middle;\n",
       "    }\n",
       "\n",
       "    .dataframe tbody tr th {\n",
       "        vertical-align: top;\n",
       "    }\n",
       "\n",
       "    .dataframe thead th {\n",
       "        text-align: right;\n",
       "    }\n",
       "</style>\n",
       "<table border=\"1\" class=\"dataframe\">\n",
       "  <thead>\n",
       "    <tr style=\"text-align: right;\">\n",
       "      <th></th>\n",
       "      <th>Order ID</th>\n",
       "      <th>Group</th>\n",
       "    </tr>\n",
       "  </thead>\n",
       "  <tbody>\n",
       "    <tr>\n",
       "      <th>16</th>\n",
       "      <td>295681</td>\n",
       "      <td>Google Phone,USB-C Charging Cable,Bose SoundSp...</td>\n",
       "    </tr>\n",
       "    <tr>\n",
       "      <th>36</th>\n",
       "      <td>295698</td>\n",
       "      <td>Vareebadd Phone,USB-C Charging Cable</td>\n",
       "    </tr>\n",
       "    <tr>\n",
       "      <th>42</th>\n",
       "      <td>295703</td>\n",
       "      <td>AA Batteries (4-pack),Bose SoundSport Headphones</td>\n",
       "    </tr>\n",
       "    <tr>\n",
       "      <th>66</th>\n",
       "      <td>295726</td>\n",
       "      <td>iPhone,Lightning Charging Cable</td>\n",
       "    </tr>\n",
       "    <tr>\n",
       "      <th>76</th>\n",
       "      <td>295735</td>\n",
       "      <td>iPhone,Apple Airpods Headphones,Wired Headphones</td>\n",
       "    </tr>\n",
       "  </tbody>\n",
       "</table>\n",
       "</div>"
      ],
      "text/plain": [
       "   Order ID                                              Group\n",
       "16   295681  Google Phone,USB-C Charging Cable,Bose SoundSp...\n",
       "36   295698               Vareebadd Phone,USB-C Charging Cable\n",
       "42   295703   AA Batteries (4-pack),Bose SoundSport Headphones\n",
       "66   295726                    iPhone,Lightning Charging Cable\n",
       "76   295735   iPhone,Apple Airpods Headphones,Wired Headphones"
      ]
     },
     "execution_count": 8,
     "metadata": {},
     "output_type": "execute_result"
    }
   ],
   "source": [
    "#Create a combination of groups so that can be used as an alternative to pairing\n",
    "df2=pd.read_csv('Sales_December_2019.csv')\n",
    "df2= df2.dropna()\n",
    "df2 =df2[df2['Order ID'].duplicated(keep=False)]\n",
    "df2['Group'] = df2.groupby('Order ID')['Product'].transform(lambda x:','.join(x))\n",
    "df2 =df2[['Order ID', 'Group']].drop_duplicates()\n",
    "df2.head()"
   ]
  },
  {
   "cell_type": "code",
   "execution_count": 9,
   "metadata": {},
   "outputs": [
    {
     "name": "stdout",
     "output_type": "stream",
     "text": [
      "Counter({('Product', 'Product'): 1128, ('Google Phone', 'USB-C Charging Cable'): 118, ('iPhone', 'Lightning Charging Cable'): 113, ('iPhone', 'Wired Headphones'): 66, ('Google Phone', 'Wired Headphones'): 56, ('Vareebadd Phone', 'USB-C Charging Cable'): 53, ('iPhone', 'Apple Airpods Headphones'): 52, ('Google Phone', 'Bose SoundSport Headphones'): 27, ('USB-C Charging Cable', 'Wired Headphones'): 25, ('Vareebadd Phone', 'Wired Headphones'): 22, ('Apple Airpods Headphones', 'Wired Headphones'): 13, ('USB-C Charging Cable', 'Lightning Charging Cable'): 11, ('Lightning Charging Cable', 'Wired Headphones'): 11, ('Lightning Charging Cable', 'AA Batteries (4-pack)'): 11, ('Lightning Charging Cable', 'USB-C Charging Cable'): 11, ('AA Batteries (4-pack)', 'Lightning Charging Cable'): 10, ('Vareebadd Phone', 'Bose SoundSport Headphones'): 10, ('Bose SoundSport Headphones', 'Wired Headphones'): 9, ('Wired Headphones', 'Wired Headphones'): 9, ('AA Batteries (4-pack)', 'AA Batteries (4-pack)'): 9, ('USB-C Charging Cable', 'Bose SoundSport Headphones'): 8, ('AAA Batteries (4-pack)', 'AAA Batteries (4-pack)'): 8, ('AA Batteries (4-pack)', 'Apple Airpods Headphones'): 8, ('Apple Airpods Headphones', 'AAA Batteries (4-pack)'): 8, ('Lightning Charging Cable', 'AAA Batteries (4-pack)'): 7, ('AA Batteries (4-pack)', 'iPhone'): 7, ('Wired Headphones', 'USB-C Charging Cable'): 7, ('AAA Batteries (4-pack)', 'Lightning Charging Cable'): 7, ('USB-C Charging Cable', 'AAA Batteries (4-pack)'): 7, ('Wired Headphones', 'Apple Airpods Headphones'): 7, ('Lightning Charging Cable', 'Bose SoundSport Headphones'): 6, ('Bose SoundSport Headphones', 'AAA Batteries (4-pack)'): 6, ('Lightning Charging Cable', 'Lightning Charging Cable'): 6, ('AAA Batteries (4-pack)', 'Wired Headphones'): 6, ('AA Batteries (4-pack)', 'AAA Batteries (4-pack)'): 5, ('Wired Headphones', 'AA Batteries (4-pack)'): 5, ('AAA Batteries (4-pack)', 'USB-C Charging Cable'): 5, ('Lightning Charging Cable', 'Apple Airpods Headphones'): 5, ('Apple Airpods Headphones', 'Apple Airpods Headphones'): 5, ('AAA Batteries (4-pack)', 'Apple Airpods Headphones'): 5, ('Bose SoundSport Headphones', 'Lightning Charging Cable'): 5, ('Wired Headphones', 'AAA Batteries (4-pack)'): 5, ('27in 4K Gaming Monitor', 'AA Batteries (4-pack)'): 5, ('AA Batteries (4-pack)', 'Bose SoundSport Headphones'): 4, ('USB-C Charging Cable', 'Apple Airpods Headphones'): 4, ('Apple Airpods Headphones', 'Bose SoundSport Headphones'): 4, ('27in 4K Gaming Monitor', 'Wired Headphones'): 4, ('Lightning Charging Cable', '27in FHD Monitor'): 4, ('iPhone', 'AAA Batteries (4-pack)'): 4, ('Bose SoundSport Headphones', 'Bose SoundSport Headphones'): 4, ('AAA Batteries (4-pack)', 'ThinkPad Laptop'): 4, ('27in FHD Monitor', 'Apple Airpods Headphones'): 4, ('AAA Batteries (4-pack)', '27in FHD Monitor'): 4, ('Macbook Pro Laptop', 'Apple Airpods Headphones'): 4, ('Wired Headphones', '34in Ultrawide Monitor'): 4, ('Apple Airpods Headphones', 'Google Phone'): 4, ('USB-C Charging Cable', 'Google Phone'): 4, ('27in FHD Monitor', 'AAA Batteries (4-pack)'): 4, ('AAA Batteries (4-pack)', 'AA Batteries (4-pack)'): 4, ('Google Phone', 'AA Batteries (4-pack)'): 4, ('34in Ultrawide Monitor', 'Lightning Charging Cable'): 3, ('USB-C Charging Cable', 'AA Batteries (4-pack)'): 3, ('Macbook Pro Laptop', 'Lightning Charging Cable'): 3, ('Lightning Charging Cable', 'Google Phone'): 3, ('AA Batteries (4-pack)', 'USB-C Charging Cable'): 3, ('Wired Headphones', '27in 4K Gaming Monitor'): 3, ('20in Monitor', 'Wired Headphones'): 3, ('USB-C Charging Cable', 'ThinkPad Laptop'): 3, ('Flatscreen TV', 'AA Batteries (4-pack)'): 3, ('Flatscreen TV', 'AAA Batteries (4-pack)'): 3, ('AA Batteries (4-pack)', 'ThinkPad Laptop'): 3, ('Apple Airpods Headphones', 'AA Batteries (4-pack)'): 3, ('Lightning Charging Cable', 'ThinkPad Laptop'): 3, ('AA Batteries (4-pack)', 'Wired Headphones'): 3, ('AAA Batteries (4-pack)', 'Macbook Pro Laptop'): 3, ('Bose SoundSport Headphones', 'AA Batteries (4-pack)'): 3, ('USB-C Charging Cable', '20in Monitor'): 2, ('Flatscreen TV', 'Flatscreen TV'): 2, ('Flatscreen TV', 'Lightning Charging Cable'): 2, ('iPhone', 'AA Batteries (4-pack)'): 2, ('Lightning Charging Cable', '27in 4K Gaming Monitor'): 2, ('AAA Batteries (4-pack)', 'Flatscreen TV'): 2, ('Bose SoundSport Headphones', '27in FHD Monitor'): 2, ('USB-C Charging Cable', '27in FHD Monitor'): 2, ('Lightning Charging Cable', 'iPhone'): 2, ('27in 4K Gaming Monitor', 'AAA Batteries (4-pack)'): 2, ('USB-C Charging Cable', '27in 4K Gaming Monitor'): 2, ('Google Phone', 'AAA Batteries (4-pack)'): 2, ('20in Monitor', 'USB-C Charging Cable'): 2, ('ThinkPad Laptop', 'Bose SoundSport Headphones'): 2, ('34in Ultrawide Monitor', 'USB-C Charging Cable'): 2, ('Wired Headphones', 'Lightning Charging Cable'): 2, ('Apple Airpods Headphones', '27in FHD Monitor'): 2, ('34in Ultrawide Monitor', 'iPhone'): 2, ('Macbook Pro Laptop', 'AAA Batteries (4-pack)'): 2, ('Google Phone', '34in Ultrawide Monitor'): 2, ('Bose SoundSport Headphones', '34in Ultrawide Monitor'): 2, ('34in Ultrawide Monitor', 'AA Batteries (4-pack)'): 2, ('ThinkPad Laptop', 'ThinkPad Laptop'): 2, ('Bose SoundSport Headphones', 'Flatscreen TV'): 2, ('Apple Airpods Headphones', '27in 4K Gaming Monitor'): 2, ('27in 4K Gaming Monitor', '27in 4K Gaming Monitor'): 2, ('Wired Headphones', 'Google Phone'): 2, ('AA Batteries (4-pack)', '27in 4K Gaming Monitor'): 2, ('27in 4K Gaming Monitor', 'Lightning Charging Cable'): 2, ('Apple Airpods Headphones', 'USB-C Charging Cable'): 2, ('Apple Airpods Headphones', 'Lightning Charging Cable'): 2, ('Macbook Pro Laptop', 'Wired Headphones'): 2, ('Lightning Charging Cable', '20in Monitor'): 2, ('Wired Headphones', 'Macbook Pro Laptop'): 2, ('Wired Headphones', 'Bose SoundSport Headphones'): 2, ('USB-C Charging Cable', 'Flatscreen TV'): 1, ('27in FHD Monitor', 'Bose SoundSport Headphones'): 1, ('Macbook Pro Laptop', 'Flatscreen TV'): 1, ('Macbook Pro Laptop', 'iPhone'): 1, ('Vareebadd Phone', 'iPhone'): 1, ('USB-C Charging Cable', 'iPhone'): 1, ('Macbook Pro Laptop', 'Google Phone'): 1, ('ThinkPad Laptop', 'Lightning Charging Cable'): 1, ('Flatscreen TV', '34in Ultrawide Monitor'): 1, ('Apple Airpods Headphones', '20in Monitor'): 1, ('ThinkPad Laptop', 'Vareebadd Phone'): 1, ('AAA Batteries (4-pack)', '20in Monitor'): 1, ('20in Monitor', '27in FHD Monitor'): 1, ('Vareebadd Phone', 'Flatscreen TV'): 1, ('Apple Airpods Headphones', 'Vareebadd Phone'): 1, ('Lightning Charging Cable', '34in Ultrawide Monitor'): 1, ('Bose SoundSport Headphones', 'Apple Airpods Headphones'): 1, ('27in 4K Gaming Monitor', 'Google Phone'): 1, ('20in Monitor', 'Bose SoundSport Headphones'): 1, ('Wired Headphones', 'LG Washing Machine'): 1, ('iPhone', '34in Ultrawide Monitor'): 1, ('ThinkPad Laptop', 'iPhone'): 1, ('ThinkPad Laptop', 'AAA Batteries (4-pack)'): 1, ('27in FHD Monitor', 'USB-C Charging Cable'): 1, ('USB-C Charging Cable', 'USB-C Charging Cable'): 1, ('USB-C Charging Cable', '34in Ultrawide Monitor'): 1, ('Macbook Pro Laptop', '27in FHD Monitor'): 1, ('AAA Batteries (4-pack)', 'iPhone'): 1, ('27in FHD Monitor', 'Wired Headphones'): 1, ('34in Ultrawide Monitor', '34in Ultrawide Monitor'): 1, ('Google Phone', 'Flatscreen TV'): 1, ('Macbook Pro Laptop', 'USB-C Charging Cable'): 1, ('ThinkPad Laptop', 'Macbook Pro Laptop'): 1, ('Wired Headphones', 'Vareebadd Phone'): 1, ('27in FHD Monitor', 'AA Batteries (4-pack)'): 1, ('27in FHD Monitor', '34in Ultrawide Monitor'): 1, ('AA Batteries (4-pack)', 'Macbook Pro Laptop'): 1, ('34in Ultrawide Monitor', 'Apple Airpods Headphones'): 1, ('34in Ultrawide Monitor', 'AAA Batteries (4-pack)'): 1, ('Macbook Pro Laptop', '34in Ultrawide Monitor'): 1, ('Bose SoundSport Headphones', 'Vareebadd Phone'): 1, ('USB-C Charging Cable', 'Vareebadd Phone'): 1, ('ThinkPad Laptop', 'USB-C Charging Cable'): 1, ('27in 4K Gaming Monitor', '27in FHD Monitor'): 1, ('Macbook Pro Laptop', 'AA Batteries (4-pack)'): 1, ('Vareebadd Phone', '34in Ultrawide Monitor'): 1, ('Google Phone', 'Lightning Charging Cable'): 1, ('Lightning Charging Cable', 'Macbook Pro Laptop'): 1, ('Apple Airpods Headphones', 'Flatscreen TV'): 1, ('Vareebadd Phone', 'ThinkPad Laptop'): 1, ('Flatscreen TV', 'Apple Airpods Headphones'): 1, ('34in Ultrawide Monitor', 'Bose SoundSport Headphones'): 1, ('Wired Headphones', 'iPhone'): 1, ('AA Batteries (4-pack)', '20in Monitor'): 1, ('20in Monitor', 'ThinkPad Laptop'): 1, ('Google Phone', 'Apple Airpods Headphones'): 1, ('27in FHD Monitor', 'Lightning Charging Cable'): 1, ('Lightning Charging Cable', 'LG Washing Machine'): 1, ('AAA Batteries (4-pack)', '27in 4K Gaming Monitor'): 1, ('27in FHD Monitor', 'ThinkPad Laptop'): 1, ('Lightning Charging Cable', 'Vareebadd Phone'): 1, ('Lightning Charging Cable', 'Flatscreen TV'): 1, ('Flatscreen TV', 'USB-C Charging Cable'): 1, ('Wired Headphones', '27in FHD Monitor'): 1, ('27in 4K Gaming Monitor', 'ThinkPad Laptop'): 1, ('AA Batteries (4-pack)', 'Flatscreen TV'): 1, ('Bose SoundSport Headphones', 'iPhone'): 1, ('Bose SoundSport Headphones', '27in 4K Gaming Monitor'): 1, ('ThinkPad Laptop', 'AA Batteries (4-pack)'): 1, ('USB-C Charging Cable', 'Macbook Pro Laptop'): 1, ('AAA Batteries (4-pack)', 'Google Phone'): 1, ('Wired Headphones', 'ThinkPad Laptop'): 1, ('Macbook Pro Laptop', '27in 4K Gaming Monitor'): 1, ('Bose SoundSport Headphones', 'USB-C Charging Cable'): 1, ('27in 4K Gaming Monitor', 'Bose SoundSport Headphones'): 1})\n"
     ]
    }
   ],
   "source": [
    "#Count each row combination by the the pairing of the two\n",
    "count = Counter()\n",
    "for row in df2['Group']:\n",
    "    row_list = row.split(',')\n",
    "    count.update(Counter(combinations(row_list,2)))\n",
    "\n",
    "print(count)"
   ]
  },
  {
   "cell_type": "code",
   "execution_count": 10,
   "metadata": {},
   "outputs": [
    {
     "name": "stdout",
     "output_type": "stream",
     "text": [
      "('Product', 'Product') 1128\n",
      "('Google Phone', 'USB-C Charging Cable') 118\n",
      "('iPhone', 'Lightning Charging Cable') 113\n",
      "('iPhone', 'Wired Headphones') 66\n",
      "('Google Phone', 'Wired Headphones') 56\n",
      "('Vareebadd Phone', 'USB-C Charging Cable') 53\n",
      "('iPhone', 'Apple Airpods Headphones') 52\n",
      "('Google Phone', 'Bose SoundSport Headphones') 27\n",
      "('USB-C Charging Cable', 'Wired Headphones') 25\n",
      "('Vareebadd Phone', 'Wired Headphones') 22\n"
     ]
    }
   ],
   "source": [
    "#check out the most common combination. \n",
    "for key, value in count.most_common(10):\n",
    "    print(key,value)\n"
   ]
  }
 ],
 "metadata": {
  "kernelspec": {
   "display_name": "Python 3",
   "language": "python",
   "name": "python3"
  },
  "language_info": {
   "codemirror_mode": {
    "name": "ipython",
    "version": 3
   },
   "file_extension": ".py",
   "mimetype": "text/x-python",
   "name": "python",
   "nbconvert_exporter": "python",
   "pygments_lexer": "ipython3",
   "version": "3.7.7"
  }
 },
 "nbformat": 4,
 "nbformat_minor": 4
}
